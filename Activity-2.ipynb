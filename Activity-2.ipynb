{
 "cells": [
  {
   "cell_type": "code",
   "execution_count": 6,
   "id": "54e95947",
   "metadata": {},
   "outputs": [
    {
     "name": "stdout",
     "output_type": "stream",
     "text": [
      "1\n",
      "3\n",
      "5\n",
      "7\n",
      "9\n"
     ]
    }
   ],
   "source": [
    "list = [1, 3, 5, 7, 9]\n",
    "# Using for loop\n",
    "for i in list:\n",
    "    print(i)"
   ]
  },
  {
   "cell_type": "code",
   "execution_count": 9,
   "id": "68d5d0d4",
   "metadata": {},
   "outputs": [
    {
     "name": "stdout",
     "output_type": "stream",
     "text": [
      "1\n",
      "3\n",
      "5\n",
      "7\n",
      "9\n"
     ]
    }
   ],
   "source": [
    "# Python3 code to iterate over a list\n",
    "list = [1, 3, 5, 7, 9]\n",
    "#getting length of list\n",
    "length = len(list)\n",
    "#Iterating the index\n",
    "#same as'for i in range(len(list))'\n",
    "for i in range(length):\n",
    "    print(list[i])"
   ]
  },
  {
   "cell_type": "code",
   "execution_count": 14,
   "id": "61128d50",
   "metadata": {},
   "outputs": [
    {
     "name": "stdout",
     "output_type": "stream",
     "text": [
      "1\n",
      "3\n",
      "5\n",
      "7\n",
      "9\n"
     ]
    }
   ],
   "source": [
    "list = [1, 3, 5, 7, 9]\n",
    "#Getting length of list\n",
    "length = len(list)\n",
    "i = 0\n",
    "#Iterating using while loop\n",
    "while i<length:\n",
    "    print(list[i])\n",
    "    i += 1"
   ]
  },
  {
   "cell_type": "code",
   "execution_count": 18,
   "id": "e9ac5715",
   "metadata": {},
   "outputs": [
    {
     "name": "stdout",
     "output_type": "stream",
     "text": [
      "dict_keys(['Gujarat', 'Maharashtra', 'Rajasthan', 'Bihar'])\n"
     ]
    }
   ],
   "source": [
    "statesAndCapitals = {'Gujarat':'Gandhinagar',\n",
    "'Maharashtra':'Mumbai',\n",
    "'Rajasthan':'Jaipur',\n",
    "'Bihar':'Patna'\n",
    "}\n",
    "keys = statesAndCapitals.keys()\n",
    "print(keys)"
   ]
  },
  {
   "cell_type": "code",
   "execution_count": 37,
   "id": "867f1e2a",
   "metadata": {},
   "outputs": [
    {
     "name": "stdout",
     "output_type": "stream",
     "text": [
      "List Of given states:\n",
      "\n",
      "Gujarat\n",
      "Maharashtra\n",
      "Rajasthan\n",
      "Bihar\n"
     ]
    }
   ],
   "source": [
    "statesAndCapitals = { 'Gujarat':'Gandhinagar',\n",
    "   'Maharashtra':'Mumbai',\n",
    "   'Rajasthan':'Jaipur',\n",
    "   'Bihar':'Patna'\n",
    "}\n",
    "print('List Of given states:\\n')\n",
    "# Iterating over keys\n",
    "for state in statesAndCapitals:\n",
    "     print(state)"
   ]
  },
  {
   "cell_type": "code",
   "execution_count": 39,
   "id": "a25c7b59",
   "metadata": {},
   "outputs": [
    {
     "name": "stdout",
     "output_type": "stream",
     "text": [
      "List Of given capitals:\n",
      "\n",
      "Gandhinagar\n",
      "Mumbai\n",
      "Jaipur\n",
      "Patna\n"
     ]
    }
   ],
   "source": [
    "statesAndCapitals = { 'Gujarat':'Gandhinagar',\n",
    "   'Maharashtra':'Mumbai',\n",
    "   'Rajasthan':'Jaipur',\n",
    "   'Bihar':'Patna'\n",
    "}\n",
    "print('List Of given capitals:\\n')\n",
    "for capitals in statesAndCapitals.values():\n",
    "     print(capitals)"
   ]
  },
  {
   "cell_type": "code",
   "execution_count": 41,
   "id": "62f8f931",
   "metadata": {},
   "outputs": [
    {
     "name": "stdout",
     "output_type": "stream",
     "text": [
      "List Of given states and their capitals:\n",
      "\n",
      "Gujarat : Gandhinagar\n",
      "Maharashtra : Mumbai\n",
      "Rajasthan : Jaipur\n",
      "Bihar : Patna\n"
     ]
    }
   ],
   "source": [
    "statesAndCapitals = { 'Gujarat':'Gandhinagar',\n",
    "   'Maharashtra':'Mumbai',\n",
    "   'Rajasthan':'Jaipur',\n",
    "   'Bihar':'Patna'\n",
    "}\n",
    "print('List Of given states and their capitals:\\n')\n",
    "for state,capital in statesAndCapitals.items():\n",
    "     print(state,\":\",capital)"
   ]
  },
  {
   "cell_type": "code",
   "execution_count": 42,
   "id": "209b69b3",
   "metadata": {},
   "outputs": [
    {
     "name": "stdout",
     "output_type": "stream",
     "text": [
      "Gujarat -> Gandhinagar\n",
      "Maharashtra -> Mumbai\n",
      "Rajasthan -> Jaipur\n",
      "Bihar -> Patna\n"
     ]
    }
   ],
   "source": [
    "statesAndCapitals = { 'Gujarat':'Gandhinagar',\n",
    "   'Maharashtra':'Mumbai',\n",
    "   'Rajasthan':'Jaipur',\n",
    "   'Bihar':'Patna'\n",
    "}\n",
    "for i in statesAndCapitals:\n",
    "     print(i,'->',statesAndCapitals[i])"
   ]
  },
  {
   "cell_type": "code",
   "execution_count": 43,
   "id": "8188ad19",
   "metadata": {},
   "outputs": [
    {
     "name": "stdout",
     "output_type": "stream",
     "text": [
      "dict_items([('Gujarat', 'Gandhinagar'), ('Maharashtra', 'Mumbai'), ('Rajasthan', 'Jaipur'), ('Bihar', 'Patna')])\n"
     ]
    }
   ],
   "source": [
    "statesAndCapitals = {'Gujarat':'Gandhinagar',\n",
    "'Maharashtra':'Mumbai',\n",
    "'Rajasthan':'Jaipur',\n",
    "'Bihar':'Patna'\n",
    "}\n",
    "keys = statesAndCapitals.items()\n",
    "print(keys)"
   ]
  },
  {
   "cell_type": "code",
   "execution_count": null,
   "id": "ebbdb324",
   "metadata": {},
   "outputs": [],
   "source": []
  }
 ],
 "metadata": {
  "kernelspec": {
   "display_name": "Python 3 (ipykernel)",
   "language": "python",
   "name": "python3"
  },
  "language_info": {
   "codemirror_mode": {
    "name": "ipython",
    "version": 3
   },
   "file_extension": ".py",
   "mimetype": "text/x-python",
   "name": "python",
   "nbconvert_exporter": "python",
   "pygments_lexer": "ipython3",
   "version": "3.10.5"
  }
 },
 "nbformat": 4,
 "nbformat_minor": 5
}
