{
 "cells": [
  {
   "cell_type": "code",
   "execution_count": 3,
   "id": "f81e5691",
   "metadata": {},
   "outputs": [
    {
     "name": "stdout",
     "output_type": "stream",
     "text": [
      "20\n"
     ]
    }
   ],
   "source": [
    "number=-20\n",
    "absolute_number=abs(number)\n",
    "print(absolute_number)"
   ]
  },
  {
   "cell_type": "code",
   "execution_count": 2,
   "id": "ea3221d7",
   "metadata": {},
   "outputs": [
    {
     "name": "stdout",
     "output_type": "stream",
     "text": [
      "absolute value of -20: 20\n"
     ]
    }
   ],
   "source": [
    "integer=-20\n",
    "print('absolute value of -20:',abs(integer))"
   ]
  },
  {
   "cell_type": "code",
   "execution_count": 5,
   "id": "5d206e83",
   "metadata": {},
   "outputs": [
    {
     "name": "stdout",
     "output_type": "stream",
     "text": [
      "absolute value of -30.33 is: 30.33\n"
     ]
    }
   ],
   "source": [
    "floating=-30.33\n",
    "print('absolute value of -30.33 is:',abs(floating))"
   ]
  },
  {
   "cell_type": "code",
   "execution_count": 7,
   "id": "b276fb1d",
   "metadata": {},
   "outputs": [
    {
     "name": "stdout",
     "output_type": "stream",
     "text": [
      "3\n"
     ]
    }
   ],
   "source": [
    "languages=['python','java','javascript']\n",
    "length=len(languages)\n",
    "print(length)"
   ]
  },
  {
   "cell_type": "code",
   "execution_count": 8,
   "id": "ed168f68",
   "metadata": {},
   "outputs": [
    {
     "name": "stdout",
     "output_type": "stream",
     "text": [
      "[1, 2, 3] length is 3\n",
      "(1, 2, 3) length is 3\n",
      "length of range(1, 10) is 3\n"
     ]
    }
   ],
   "source": [
    "testlist=[1,2,3]\n",
    "print(testlist,'length is',len(testlist))\n",
    "testtuple=(1,2,3)\n",
    "print(testtuple,'length is',len(testtuple))\n",
    "testrange=range(1,10)\n",
    "print('length of',testrange,'is',len(testtuple))"
   ]
  },
  {
   "cell_type": "code",
   "execution_count": 12,
   "id": "bc81543c",
   "metadata": {},
   "outputs": [
    {
     "name": "stdout",
     "output_type": "stream",
     "text": [
      "15\n",
      "52\n",
      "52\n",
      "51\n"
     ]
    }
   ],
   "source": [
    "#for integers\n",
    "print(round(15))\n",
    "# for floating point\n",
    "print(round(51.6))\n",
    "print(round(51.5))\n",
    "print(round(51.4))"
   ]
  },
  {
   "cell_type": "code",
   "execution_count": 13,
   "id": "68f808d7",
   "metadata": {},
   "outputs": [
    {
     "name": "stdout",
     "output_type": "stream",
     "text": [
      "False\n",
      "False\n",
      "False\n"
     ]
    }
   ],
   "source": [
    "#continous either numeric or alphabet\n",
    "string1=\"M234onica.\"\n",
    "print(string1.isalnum())\n",
    "#contains whitespace \n",
    "string2=\"M30nica Gellzzer\"\n",
    "print(string2.isalnum())\n",
    "#contains non-alphanumeric charater\n",
    "string3=\"@Monica!\"\n",
    "print(string3.isalnum())\n"
   ]
  },
  {
   "cell_type": "code",
   "execution_count": 14,
   "id": "c52393ba",
   "metadata": {},
   "outputs": [
    {
     "name": "stdout",
     "output_type": "stream",
     "text": [
      "2.67\n",
      "2.68\n",
      "2.67\n"
     ]
    }
   ],
   "source": [
    "print(round(2.665, 2))\n",
    "print(round(2.676, 2))\n",
    "print(round(2.673, 2))"
   ]
  },
  {
   "cell_type": "code",
   "execution_count": null,
   "id": "b45f2ea1",
   "metadata": {},
   "outputs": [],
   "source": []
  }
 ],
 "metadata": {
  "kernelspec": {
   "display_name": "Python 3 (ipykernel)",
   "language": "python",
   "name": "python3"
  },
  "language_info": {
   "codemirror_mode": {
    "name": "ipython",
    "version": 3
   },
   "file_extension": ".py",
   "mimetype": "text/x-python",
   "name": "python",
   "nbconvert_exporter": "python",
   "pygments_lexer": "ipython3",
   "version": "3.10.5"
  }
 },
 "nbformat": 4,
 "nbformat_minor": 5
}
