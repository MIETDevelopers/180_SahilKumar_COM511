{
 "cells": [
  {
   "cell_type": "code",
   "execution_count": 1,
   "id": "5578d74c",
   "metadata": {},
   "outputs": [
    {
     "name": "stdout",
     "output_type": "stream",
     "text": [
      "total sum of digit is 10\n"
     ]
    }
   ],
   "source": [
    "n =int(input(\"enter the number\"))\n",
    "sum=0\n",
    "while(n>0):\n",
    "        rem= n%10\n",
    "        sum=sum+rem\n",
    "        n=n//10\n",
    "print(\"total sum of digit is\",sum)"
   ]
  },
  {
   "cell_type": "code",
   "execution_count": 2,
   "id": "dc740504",
   "metadata": {},
   "outputs": [
    {
     "name": "stdout",
     "output_type": "stream",
     "text": [
      "3\n"
     ]
    }
   ],
   "source": [
    " #sum of digit using function\n",
    "def get_sum(n):\n",
    "        sum=0\n",
    "        for digit in str(n):\n",
    "                sum +=int(digit)\n",
    "        return sum\n",
    "n=int(input(\"enter the number\"))\n",
    "print(get_sum(n))\n"
   ]
  },
  {
   "cell_type": "code",
   "execution_count": 5,
   "id": "54fa26ab",
   "metadata": {},
   "outputs": [
    {
     "name": "stdout",
     "output_type": "stream",
     "text": [
      "77 is an armstrong number\n"
     ]
    }
   ],
   "source": [
    " #program to find whether its a  armstrong or not\n",
    "num=int(input(\"enter the number\"))\n",
    "sum=0\n",
    "temp=num\n",
    "while temp>0:\n",
    "    digit = temp%10\n",
    "    sum +=digit**3\n",
    "    temp//=10\n",
    "if num==sum:\n",
    "    print(num,\"is an armstrong number\")\n",
    "else:\n",
    "    print(num,\"is an armstrong number\")"
   ]
  },
  {
   "cell_type": "code",
   "execution_count": null,
   "id": "fc705be8",
   "metadata": {},
   "outputs": [],
   "source": []
  },
  {
   "cell_type": "code",
   "execution_count": null,
   "id": "6315a3a0",
   "metadata": {},
   "outputs": [],
   "source": []
  }
 ],
 "metadata": {
  "kernelspec": {
   "display_name": "Python 3 (ipykernel)",
   "language": "python",
   "name": "python3"
  },
  "language_info": {
   "codemirror_mode": {
    "name": "ipython",
    "version": 3
   },
   "file_extension": ".py",
   "mimetype": "text/x-python",
   "name": "python",
   "nbconvert_exporter": "python",
   "pygments_lexer": "ipython3",
   "version": "3.10.5"
  },
  "vscode": {
   "interpreter": {
    "hash": "1709ac02e3cf51b3fb91bc25aa99cb6754fd107a085ff8ffbbbb8ae54967a239"
   }
  }
 },
 "nbformat": 4,
 "nbformat_minor": 5
}
