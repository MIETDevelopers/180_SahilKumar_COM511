{
 "cells": [
  {
   "cell_type": "code",
   "execution_count": 22,
   "id": "dfe32279",
   "metadata": {},
   "outputs": [
    {
     "name": "stdout",
     "output_type": "stream",
     "text": [
      "enter the number of rows:5\n",
      "* \n",
      "* * \n",
      "* * * \n",
      "* * * * \n",
      "* * * * * \n"
     ]
    }
   ],
   "source": [
    "#program to print left half pyramid\n",
    "num_rows=int(input(\"enter the number of rows:\"))\n",
    "k=1\n",
    "for i in range(0,num_rows):\n",
    "    for j in range (0,k):\n",
    "        print(\"*\",end=\" \")\n",
    "    k=k+1\n",
    "    print()"
   ]
  },
  {
   "cell_type": "code",
   "execution_count": 21,
   "id": "65bef445",
   "metadata": {},
   "outputs": [
    {
     "name": "stdout",
     "output_type": "stream",
     "text": [
      "enter the number of rows:5\n",
      "        * \n",
      "      * * \n",
      "    * * * \n",
      "  * * * * \n",
      "* * * * * \n"
     ]
    }
   ],
   "source": [
    "#program to print right half  pyramid \n",
    "num_rows= int(input(\"enter the number of rows:\"))\n",
    "k=8\n",
    "for i in range(0,num_rows):\n",
    "    for j in range(0,k):\n",
    "        print(end=\" \")\n",
    "    k=k-2\n",
    "    for j in range(0,i+1):\n",
    "        print(\"*\",end=\" \")\n",
    "    print()"
   ]
  },
  {
   "cell_type": "code",
   "execution_count": 26,
   "id": "6518c93b",
   "metadata": {},
   "outputs": [
    {
     "name": "stdout",
     "output_type": "stream",
     "text": [
      "enter the number of rows:8\n",
      "        * \n",
      "       * * \n",
      "      * * * \n",
      "     * * * * \n",
      "    * * * * * \n",
      "   * * * * * * \n",
      "  * * * * * * * \n",
      " * * * * * * * * \n"
     ]
    }
   ],
   "source": [
    "#program to print full pyramid\n",
    "num_rows= int(input(\"enter the number of rows:\"))\n",
    "k=8\n",
    "for i in range(0,num_rows):\n",
    "    for j in range(0,k):\n",
    "        print(end=\" \")\n",
    "    k=k-1\n",
    "    for j in range(0,i+1):\n",
    "        print(\"*\",end=\" \")\n",
    "    print()"
   ]
  },
  {
   "cell_type": "code",
   "execution_count": 1,
   "id": "68303b42",
   "metadata": {},
   "outputs": [
    {
     "name": "stdout",
     "output_type": "stream",
     "text": [
      "enter the number of rows:5\n",
      "        * \n",
      "       * * \n",
      "      * * * \n",
      "     * * * * \n",
      "    * * * * * \n",
      "   * * * * * * \n",
      "    * * * * * \n",
      "     * * * * \n",
      "      * * * \n",
      "       * * \n",
      "        * \n"
     ]
    }
   ],
   "source": [
    "#program to print  dimond\n",
    "num_rows=int(input(\"enter the number of rows:\"))\n",
    "k=2*num_rows-2\n",
    "for i in range(0,num_rows):\n",
    "    for j in range(0,k):\n",
    "        print(end= \" \")\n",
    "    k=k-1\n",
    "    for j in range(0,i+1):\n",
    "        print(\"*\",end=\" \")\n",
    "    print(\"\")\n",
    "k=num_rows-2\n",
    "for i in range(num_rows,-1,-1):\n",
    "    for j in range(k,0,-1):\n",
    "        print(end=\" \")\n",
    "    k=k+1\n",
    "    for j in range(0,i+1):\n",
    "        print(\"*\",end=\" \")\n",
    "    print(\"\")    "
   ]
  }
 ],
 "metadata": {
  "kernelspec": {
   "display_name": "Python 3 (ipykernel)",
   "language": "python",
   "name": "python3"
  },
  "language_info": {
   "codemirror_mode": {
    "name": "ipython",
    "version": 3
   },
   "file_extension": ".py",
   "mimetype": "text/x-python",
   "name": "python",
   "nbconvert_exporter": "python",
   "pygments_lexer": "ipython3",
   "version": "3.10.5"
  }
 },
 "nbformat": 4,
 "nbformat_minor": 5
}
