{
 "cells": [
  {
   "cell_type": "code",
   "execution_count": 1,
   "id": "232d922f",
   "metadata": {},
   "outputs": [
    {
     "name": "stdout",
     "output_type": "stream",
     "text": [
      "How Many Students you Want To Input?1\n",
      "Enter Roll No:2121\n",
      "Enter Name:amit\n",
      "Enter Physics Marks:55\n",
      "Enter Chemistry Marks:65\n",
      "Enter Maths Marks:89\n",
      "Enter Roll Number you Want Search?2121\n",
      "2121 amit 69.66666666666667\n",
      "All students who scored more that 60 percentage are :\n",
      "2121 amit 69.66666666666667\n"
     ]
    }
   ],
   "source": [
    "class Student:\n",
    "    def GetStudent(self):\n",
    "        self.__rollno = input(\"Enter Roll No:\")\n",
    "        self.__name = input(\"Enter Name:\")\n",
    "        self.__physicsMarks = int(input(\"Enter Physics Marks:\"))\n",
    "        self.__chemistyMarks = int(input(\"Enter Chemistry Marks:\"))\n",
    "        self.__mathMarks = int(input(\"Enter Maths Marks:\"))\n",
    "        return(self.__rollno)\n",
    "    def PutStudent(self):\n",
    "        print(self.__rollno,self.__name,((self.__physicsMarks+self.__chemistyMarks+self.__mathMarks)/3))\n",
    "    def Search(self,min,max):\n",
    "        per = (self.__physicsMarks+self.__mathMarks+self.__chemistyMarks)/3\n",
    "        if(per>=min and per<=max):\n",
    "            return True\n",
    "        else:\n",
    "            return False\n",
    "studentDict = dict()\n",
    "n = int(input(\"How Many Students you Want To Input?\"))\n",
    "for i in range(n):\n",
    "    S = Student()\n",
    "    rollno = S.GetStudent()\n",
    "    studentDict.setdefault(rollno,S)\n",
    "    rollno = input(\"Enter Roll Number you Want Search?\")\n",
    "    S = studentDict.get(rollno,\"Not Found!\")\n",
    "    if(isinstance(S,Student)):\n",
    "        S.PutStudent()\n",
    "    else:\n",
    "        print(S)\n",
    "print(\"All students who scored more that 60 percentage are :\")\n",
    "gradeAStudent = list(filter(lambda s:s.Search(60,100),studentDict.values()))\n",
    "if(len(gradeAStudent) == 0):\n",
    "    print(\"Record Not Found!\")\n",
    "else:\n",
    "    for S in gradeAStudent:\n",
    "        S.PutStudent()   \n",
    "              "
   ]
  },
  {
   "cell_type": "code",
   "execution_count": null,
   "id": "035f3127",
   "metadata": {},
   "outputs": [],
   "source": []
  },
  {
   "cell_type": "code",
   "execution_count": null,
   "id": "1e296773",
   "metadata": {},
   "outputs": [],
   "source": []
  }
 ],
 "metadata": {
  "kernelspec": {
   "display_name": "Python 3 (ipykernel)",
   "language": "python",
   "name": "python3"
  },
  "language_info": {
   "codemirror_mode": {
    "name": "ipython",
    "version": 3
   },
   "file_extension": ".py",
   "mimetype": "text/x-python",
   "name": "python",
   "nbconvert_exporter": "python",
   "pygments_lexer": "ipython3",
   "version": "3.10.5"
  }
 },
 "nbformat": 4,
 "nbformat_minor": 5
}
