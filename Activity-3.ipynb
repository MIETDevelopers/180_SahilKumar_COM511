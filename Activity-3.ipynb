{
 "cells": [
  {
   "cell_type": "code",
   "execution_count": 4,
   "id": "66b43444",
   "metadata": {},
   "outputs": [
    {
     "name": "stdout",
     "output_type": "stream",
     "text": [
      "The original string is:geeksforgeeks!!$ is best 4 all Geeks 10-0\n",
      "Count of Alphabets :27\n"
     ]
    }
   ],
   "source": [
    "test_str='geeksforgeeks!!$ is best 4 all Geeks 10-0'\n",
    "#printing original string\n",
    "print(\"The original string is:\"+str(test_str))\n",
    "#isalpha() to computation of Alphabets\n",
    "res=len([ele for ele in test_str if ele.isalpha()])\n",
    "#printing result\n",
    "print(\"Count of Alphabets :\"+str(res))"
   ]
  },
  {
   "cell_type": "code",
   "execution_count": 31,
   "id": "7a3c16f6",
   "metadata": {},
   "outputs": [
    {
     "name": "stdout",
     "output_type": "stream",
     "text": [
      "The original string is:geeksforgeeks !!$ is best 4 all Geeks 10-0\n",
      "Count of Alphabets:27\n"
     ]
    }
   ],
   "source": [
    "import string\n",
    "#initializing string\n",
    "test_str='geeksforgeeks !!$ is best 4 all Geeks 10-0'\n",
    "#printing original string\n",
    "print(\"The original string is:\" +str(test_str))\n",
    "#ascii_lowercase and ascii_uppercase\n",
    "#to check for Alphabets\n",
    "res=len([ele for ele in test_str if ele in string.ascii_uppercase or ele in string.ascii_lowercase])\n",
    "#printing result\n",
    "print(\"Count of Alphabets:\" +str(res))"
   ]
  },
  {
   "cell_type": "code",
   "execution_count": 33,
   "id": "ea4f13c0",
   "metadata": {},
   "outputs": [
    {
     "name": "stdout",
     "output_type": "stream",
     "text": [
      "The original list is : ['geeksforgeeks', 'is', 'best', 'for', 'geeks']\n",
      "Range characters : sbestforgeeks\n"
     ]
    }
   ],
   "source": [
    "# initializing list\n",
    "test_list = [\"geeksforgeeks\", \"is\", \"best\", \"for\", \"geeks\"]\n",
    "# printing original list\n",
    "print(\"The original list is : \" + str(test_list))\n",
    "# initializing char range\n",
    "strt, end = 14, 30\n",
    "# strt and end used to get desired characters\n",
    "res = ''.join([sub for sub in test_list])[strt : end]\n",
    "# printing result\n",
    "print(\"Range characters : \" + str(res))"
   ]
  },
  {
   "cell_type": "code",
   "execution_count": 34,
   "id": "cc238d49",
   "metadata": {},
   "outputs": [
    {
     "name": "stdout",
     "output_type": "stream",
     "text": [
      "True\n"
     ]
    }
   ],
   "source": [
    "# here a,b and c are characters and 1,2 and 3\n",
    "# are numbers\n",
    "string = \"abc123\"\n",
    "print(string.isalnum())"
   ]
  },
  {
   "cell_type": "code",
   "execution_count": 35,
   "id": "5dab993f",
   "metadata": {},
   "outputs": [
    {
     "name": "stdout",
     "output_type": "stream",
     "text": [
      "abc 123 is alphanumeric? False\n",
      "abc_123 is alphanumeric? False\n",
      "000 is alphanumeric? True\n",
      "aaaa is alphanumeric? True\n"
     ]
    }
   ],
   "source": [
    "string = \"abc 123\"\n",
    "print(string, \"is alphanumeric?\", string.isalnum())\n",
    "\n",
    "string = \"abc_123\"\n",
    "print(string, \"is alphanumeric?\", string.isalnum())\n",
    "string = \"000\"\n",
    "print(string, \"is alphanumeric?\", string.isalnum())\n",
    "string = \"aaaa\"\n",
    "print(string, \"is alphanumeric?\", string.isalnum())"
   ]
  },
  {
   "cell_type": "code",
   "execution_count": 37,
   "id": "32c046fe",
   "metadata": {},
   "outputs": [
    {
     "name": "stdout",
     "output_type": "stream",
     "text": [
      "Password is alphanumeric.\n"
     ]
    }
   ],
   "source": [
    "password = \"user123456\"\n",
    "if password.isalnum():\n",
    "    print(\"Password is alphanumeric.\")\n",
    "else:\n",
    "    print(\"Password is not alphanumeric.\")"
   ]
  },
  {
   "cell_type": "code",
   "execution_count": null,
   "id": "755adb54",
   "metadata": {},
   "outputs": [],
   "source": []
  }
 ],
 "metadata": {
  "kernelspec": {
   "display_name": "Python 3 (ipykernel)",
   "language": "python",
   "name": "python3"
  },
  "language_info": {
   "codemirror_mode": {
    "name": "ipython",
    "version": 3
   },
   "file_extension": ".py",
   "mimetype": "text/x-python",
   "name": "python",
   "nbconvert_exporter": "python",
   "pygments_lexer": "ipython3",
   "version": "3.10.5"
  }
 },
 "nbformat": 4,
 "nbformat_minor": 5
}
