{
 "cells": [
  {
   "cell_type": "code",
   "execution_count": 4,
   "id": "8cef3219",
   "metadata": {},
   "outputs": [
    {
     "name": "stdout",
     "output_type": "stream",
     "text": [
      "40.00 celsius is equivalent to: 104.00 fahrenheit\n"
     ]
    }
   ],
   "source": [
    "#PROGRAM TO CONVERT TEMPERATURE TO AND FROM CELSIUS TO FAHRENHEIT\n",
    "celsius=40\n",
    "fahrenheit=(celsius*1.8)+32\n",
    "print('%.2f celsius is equivalent to: %.2f fahrenheit' %(celsius,fahrenheit))"
   ]
  },
  {
   "cell_type": "code",
   "execution_count": 5,
   "id": "0066c49b",
   "metadata": {},
   "outputs": [
    {
     "name": "stdout",
     "output_type": "stream",
     "text": [
      "enter the temperature:20\n",
      "20.00 celsius is equivalent to: 68.00 fahrenheit\n"
     ]
    }
   ],
   "source": [
    "# taking input from the user\n",
    "celsius=int(input(\"enter the temperature:\"))\n",
    "fahrenheit=(celsius*1.8)+32\n",
    "print('%.2f celsius is equivalent to: %.2f fahrenheit' %(celsius,fahrenheit))"
   ]
  },
  {
   "cell_type": "code",
   "execution_count": 6,
   "id": "91f79937",
   "metadata": {},
   "outputs": [
    {
     "name": "stdout",
     "output_type": "stream",
     "text": [
      "enter the temperature in celsius40\n",
      "temperature in celsius =40.00\n",
      "temperature in fahrenheit=104.00\n"
     ]
    }
   ],
   "source": [
    "#program from statement to function for celsius to fahrenheit\n",
    "def convert_ctof(c):\n",
    "    f=(c*1.8)+32\n",
    "    return f\n",
    "c=float(input(\"enter the temperature in celsius\"))\n",
    "print(\"temperature in celsius ={:.2f}\".format(c))\n",
    "print(\"temperature in fahrenheit={:.2f}\".format(convert_ctof(c)))"
   ]
  },
  {
   "cell_type": "code",
   "execution_count": 8,
   "id": "bf17b627",
   "metadata": {},
   "outputs": [
    {
     "name": "stdout",
     "output_type": "stream",
     "text": [
      "enter the temperature in fahrenheit104\n",
      "temperature in fahrenheit =104.00\n",
      "temperature in celsius=40.00\n"
     ]
    }
   ],
   "source": [
    "#program from statement to function for fahrenheit to celsius\n",
    "def convert_ftoc(f):\n",
    "    c=(5/9)*(f-32)\n",
    "    return c\n",
    "f=float(input(\"enter the temperature in fahrenheit\"))\n",
    "print(\"temperature in fahrenheit ={:.2f}\".format(f))\n",
    "print(\"temperature in celsius={:.2f}\".format(convert_ftoc(f)))\n"
   ]
  },
  {
   "cell_type": "code",
   "execution_count": null,
   "id": "11bde284",
   "metadata": {},
   "outputs": [],
   "source": []
  }
 ],
 "metadata": {
  "kernelspec": {
   "display_name": "Python 3 (ipykernel)",
   "language": "python",
   "name": "python3"
  },
  "language_info": {
   "codemirror_mode": {
    "name": "ipython",
    "version": 3
   },
   "file_extension": ".py",
   "mimetype": "text/x-python",
   "name": "python",
   "nbconvert_exporter": "python",
   "pygments_lexer": "ipython3",
   "version": "3.10.5"
  }
 },
 "nbformat": 4,
 "nbformat_minor": 5
}
